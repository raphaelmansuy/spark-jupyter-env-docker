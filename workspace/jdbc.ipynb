{
 "cells": [
  {
   "cell_type": "code",
   "execution_count": 1,
   "id": "8b58a17b-3b47-4ccd-b1e7-2474e49caf08",
   "metadata": {},
   "outputs": [
    {
     "data": {
      "text/plain": [
       "\u001b[32mimport \u001b[39m\u001b[36m$ivy.$                                 \n",
       "\n",
       "\u001b[39m\n",
       "\u001b[32mimport \u001b[39m\u001b[36m$ivy.$                                  ;\n",
       "\u001b[39m"
      ]
     },
     "execution_count": 1,
     "metadata": {},
     "output_type": "execute_result"
    }
   ],
   "source": [
    "import $ivy.`org.postgresql:postgresql:42.3.6`\n",
    "\n",
    "import $ivy.`org.apache.spark::spark-sql:3.0.0`;\n"
   ]
  },
  {
   "cell_type": "code",
   "execution_count": 2,
   "id": "2d322953-2346-4772-bab6-8ebe23bcdca9",
   "metadata": {},
   "outputs": [
    {
     "name": "stderr",
     "output_type": "stream",
     "text": [
      "Using Spark's default log4j profile: org/apache/spark/log4j-defaults.properties\n",
      "22/06/09 13:39:35 INFO SparkContext: Running Spark version 3.0.0\n",
      "22/06/09 13:39:35 WARN NativeCodeLoader: Unable to load native-hadoop library for your platform... using builtin-java classes where applicable\n",
      "22/06/09 13:39:35 INFO ResourceUtils: ==============================================================\n",
      "22/06/09 13:39:35 INFO ResourceUtils: Resources for spark.driver:\n",
      "\n",
      "22/06/09 13:39:35 INFO ResourceUtils: ==============================================================\n",
      "22/06/09 13:39:35 INFO SparkContext: Submitted application: scala-spark-notebook\n",
      "22/06/09 13:39:35 INFO SecurityManager: Changing view acls to: root\n",
      "22/06/09 13:39:35 INFO SecurityManager: Changing modify acls to: root\n",
      "22/06/09 13:39:35 INFO SecurityManager: Changing view acls groups to: \n",
      "22/06/09 13:39:35 INFO SecurityManager: Changing modify acls groups to: \n",
      "22/06/09 13:39:35 INFO SecurityManager: SecurityManager: authentication disabled; ui acls disabled; users  with view permissions: Set(root); groups with view permissions: Set(); users  with modify permissions: Set(root); groups with modify permissions: Set()\n",
      "22/06/09 13:39:36 INFO Utils: Successfully started service 'sparkDriver' on port 44461.\n",
      "22/06/09 13:39:36 INFO SparkEnv: Registering MapOutputTracker\n",
      "22/06/09 13:39:36 INFO SparkEnv: Registering BlockManagerMaster\n",
      "22/06/09 13:39:36 INFO BlockManagerMasterEndpoint: Using org.apache.spark.storage.DefaultTopologyMapper for getting topology information\n",
      "22/06/09 13:39:36 INFO BlockManagerMasterEndpoint: BlockManagerMasterEndpoint up\n",
      "22/06/09 13:39:36 INFO SparkEnv: Registering BlockManagerMasterHeartbeat\n",
      "22/06/09 13:39:36 INFO DiskBlockManager: Created local directory at /tmp/blockmgr-35f86577-4bd9-4ca3-ac28-1f4fb557a30d\n",
      "22/06/09 13:39:36 INFO MemoryStore: MemoryStore started with capacity 1111.8 MiB\n",
      "22/06/09 13:39:36 INFO SparkEnv: Registering OutputCommitCoordinator\n",
      "22/06/09 13:39:36 INFO Utils: Successfully started service 'SparkUI' on port 4040.\n",
      "22/06/09 13:39:36 INFO SparkUI: Bound SparkUI to 0.0.0.0, and started at http://227281bc4555:4040\n",
      "22/06/09 13:39:36 INFO SparkContext: Added JAR jars/postgresql-42.3.6.jar at spark://227281bc4555:44461/jars/postgresql-42.3.6.jar with timestamp 1654781976519\n",
      "22/06/09 13:39:36 INFO StandaloneAppClient$ClientEndpoint: Connecting to master spark://spark-master:7077...\n",
      "22/06/09 13:39:36 INFO TransportClientFactory: Successfully created connection to spark-master/172.19.0.3:7077 after 21 ms (0 ms spent in bootstraps)\n",
      "22/06/09 13:39:36 INFO StandaloneSchedulerBackend: Connected to Spark cluster with app ID app-20220609133936-0010\n",
      "22/06/09 13:39:36 INFO StandaloneAppClient$ClientEndpoint: Executor added: app-20220609133936-0010/0 on worker-20220609131701-172.19.0.5-44333 (172.19.0.5:44333) with 1 core(s)\n",
      "22/06/09 13:39:36 INFO StandaloneSchedulerBackend: Granted executor ID app-20220609133936-0010/0 on hostPort 172.19.0.5:44333 with 1 core(s), 512.0 MiB RAM\n",
      "22/06/09 13:39:36 INFO StandaloneAppClient$ClientEndpoint: Executor added: app-20220609133936-0010/1 on worker-20220609131701-172.19.0.6-42117 (172.19.0.6:42117) with 1 core(s)\n",
      "22/06/09 13:39:36 INFO StandaloneSchedulerBackend: Granted executor ID app-20220609133936-0010/1 on hostPort 172.19.0.6:42117 with 1 core(s), 512.0 MiB RAM\n",
      "22/06/09 13:39:36 INFO Utils: Successfully started service 'org.apache.spark.network.netty.NettyBlockTransferService' on port 44039.\n",
      "22/06/09 13:39:36 INFO NettyBlockTransferService: Server created on 227281bc4555:44039\n",
      "22/06/09 13:39:36 INFO BlockManager: Using org.apache.spark.storage.RandomBlockReplicationPolicy for block replication policy\n",
      "22/06/09 13:39:36 INFO BlockManagerMaster: Registering BlockManager BlockManagerId(driver, 227281bc4555, 44039, None)\n",
      "22/06/09 13:39:36 INFO BlockManagerMasterEndpoint: Registering block manager 227281bc4555:44039 with 1111.8 MiB RAM, BlockManagerId(driver, 227281bc4555, 44039, None)\n",
      "22/06/09 13:39:36 INFO BlockManagerMaster: Registered BlockManager BlockManagerId(driver, 227281bc4555, 44039, None)\n",
      "22/06/09 13:39:36 INFO BlockManager: Initialized BlockManager: BlockManagerId(driver, 227281bc4555, 44039, None)\n",
      "22/06/09 13:39:36 INFO StandaloneAppClient$ClientEndpoint: Executor updated: app-20220609133936-0010/0 is now RUNNING\n",
      "22/06/09 13:39:36 INFO StandaloneAppClient$ClientEndpoint: Executor updated: app-20220609133936-0010/1 is now RUNNING\n",
      "22/06/09 13:39:37 INFO StandaloneSchedulerBackend: SchedulerBackend is ready for scheduling beginning after reached minRegisteredResourcesRatio: 0.0\n"
     ]
    },
    {
     "data": {
      "text/plain": [
       "\u001b[32mimport \u001b[39m\u001b[36morg.apache.spark.sql._\n",
       "\n",
       "\u001b[39m\n",
       "\u001b[36mspark\u001b[39m: \u001b[32mSparkSession\u001b[39m = org.apache.spark.sql.SparkSession@2991bd07\n",
       "\u001b[36mres1_2\u001b[39m: \u001b[32mClass\u001b[39m[\u001b[32m?0\u001b[39m] = class org.postgresql.Driver\n",
       "\u001b[36mjdbcHostname\u001b[39m: \u001b[32mString\u001b[39m = \u001b[32m\"db\"\u001b[39m\n",
       "\u001b[36mjdbcPort\u001b[39m: \u001b[32mInt\u001b[39m = \u001b[32m5432\u001b[39m\n",
       "\u001b[36mjdbcDatabase\u001b[39m: \u001b[32mString\u001b[39m = \u001b[32m\"postgres\"\u001b[39m\n",
       "\u001b[36mjdbcUsername\u001b[39m: \u001b[32mString\u001b[39m = \u001b[32m\"postgres\"\u001b[39m\n",
       "\u001b[36mjdbcPassword\u001b[39m: \u001b[32mString\u001b[39m = \u001b[32m\"postgres\"\u001b[39m\n",
       "\u001b[36mjdbcUrl\u001b[39m: \u001b[32mString\u001b[39m = \u001b[32m\"jdbc:postgresql://db:5432/postgres\"\u001b[39m\n",
       "\u001b[32mimport \u001b[39m\u001b[36mjava.util.Properties\n",
       "\u001b[39m\n",
       "\u001b[36mconnectionProperties\u001b[39m: \u001b[32mProperties\u001b[39m = {user=postgres, password=postgres, driver=org.postgresql.Driver}\n",
       "\u001b[36mres1_11\u001b[39m: \u001b[32mObject\u001b[39m = \u001b[32mnull\u001b[39m\n",
       "\u001b[36mres1_12\u001b[39m: \u001b[32mObject\u001b[39m = \u001b[32mnull\u001b[39m\n",
       "\u001b[36mres1_13\u001b[39m: \u001b[32mObject\u001b[39m = \u001b[32mnull\u001b[39m\n",
       "\u001b[32mimport \u001b[39m\u001b[36mjava.sql.DriverManager\n",
       "\u001b[39m\n",
       "\u001b[36mconnection\u001b[39m: \u001b[32mjava\u001b[39m.\u001b[32msql\u001b[39m.\u001b[32mConnection\u001b[39m = org.postgresql.jdbc.PgConnection@8dff50a\n",
       "\u001b[36mres1_16\u001b[39m: \u001b[32mBoolean\u001b[39m = false"
      ]
     },
     "execution_count": 2,
     "metadata": {},
     "output_type": "execute_result"
    }
   ],
   "source": [
    "import org.apache.spark.sql._\n",
    "\n",
    "val spark = SparkSession.\n",
    "            builder().\n",
    "            appName(\"scala-spark-notebook\").\n",
    "            master(\"spark://spark-master:7077\").\n",
    "            config(\"spark.jars\", \"jars/postgresql-42.3.6.jar\").\n",
    "            config(\"spark.executor.memory\", \"512m\").\n",
    "            getOrCreate()\n",
    "\n",
    "Class.forName(\"org.postgresql.Driver\")\n",
    "\n",
    "\n",
    "val jdbcHostname = \"db\"\n",
    "val jdbcPort = 5432\n",
    "val jdbcDatabase = \"postgres\"\n",
    "val jdbcUsername = \"postgres\"\n",
    "val jdbcPassword = \"postgres\"\n",
    "\n",
    "// Create the JDBC URL without passing in the user and password parameters.\n",
    "val jdbcUrl = s\"jdbc:postgresql://${jdbcHostname}:${jdbcPort}/${jdbcDatabase}\"\n",
    "\n",
    "// Create a Properties() object to hold the parameters.\n",
    "import java.util.Properties\n",
    "val connectionProperties = new Properties()\n",
    "\n",
    "connectionProperties.put(\"user\", s\"${jdbcUsername}\")\n",
    "connectionProperties.put(\"password\", s\"${jdbcPassword}\")\n",
    "connectionProperties.put(\"driver\",\"org.postgresql.Driver\")\n",
    "\n",
    "import java.sql.DriverManager\n",
    "val connection = DriverManager.getConnection(jdbcUrl, jdbcUsername, jdbcPassword)\n",
    "connection.isClosed()            \n",
    "\n",
    "\n"
   ]
  },
  {
   "cell_type": "code",
   "execution_count": 3,
   "id": "7436a8ed-3788-42f0-bdb8-6019fce011e5",
   "metadata": {},
   "outputs": [
    {
     "name": "stderr",
     "output_type": "stream",
     "text": [
      "22/06/09 13:39:37 INFO SharedState: Setting hive.metastore.warehouse.dir ('null') to the value of spark.sql.warehouse.dir ('file:/opt/workspace/spark-warehouse').\n",
      "22/06/09 13:39:37 INFO SharedState: Warehouse path is 'file:/opt/workspace/spark-warehouse'.\n",
      "22/06/09 13:39:37 INFO ResourceProfile: Default ResourceProfile created, executor resources: Map(cores -> name: cores, amount: 1, script: , vendor: , memory -> name: memory, amount: 512, script: , vendor: ), task resources: Map(cpus -> name: cpus, amount: 1.0)\n",
      "22/06/09 13:39:38 INFO CoarseGrainedSchedulerBackend$DriverEndpoint: Registered executor NettyRpcEndpointRef(spark-client://Executor) (172.19.0.6:50686) with ID 1\n",
      "22/06/09 13:39:38 INFO CoarseGrainedSchedulerBackend$DriverEndpoint: Registered executor NettyRpcEndpointRef(spark-client://Executor) (172.19.0.5:57998) with ID 0\n",
      "22/06/09 13:39:38 INFO BlockManagerMasterEndpoint: Registering block manager 172.19.0.6:45657 with 93.3 MiB RAM, BlockManagerId(1, 172.19.0.6, 45657, None)\n",
      "22/06/09 13:39:38 INFO BlockManagerMasterEndpoint: Registering block manager 172.19.0.5:46307 with 93.3 MiB RAM, BlockManagerId(0, 172.19.0.5, 46307, None)\n"
     ]
    },
    {
     "data": {
      "text/plain": [
       "\u001b[36mdf\u001b[39m: \u001b[32mDataFrame\u001b[39m = [id: int, average: decimal(38,18) ... 32 more fields]"
      ]
     },
     "execution_count": 3,
     "metadata": {},
     "output_type": "execute_result"
    }
   ],
   "source": [
    "val df = \n",
    "  spark\n",
    "    .read\n",
    "    .jdbc(jdbcUrl,\n",
    "         \"baseball_offensive_stats\", \n",
    "         connectionProperties)\n"
   ]
  },
  {
   "cell_type": "code",
   "execution_count": 4,
   "id": "dc0b131d-6bfe-4e9d-abc9-680db081dff0",
   "metadata": {},
   "outputs": [
    {
     "name": "stderr",
     "output_type": "stream",
     "text": [
      "22/06/09 13:39:39 WARN package: Truncated the string representation of a plan since it was too large. This behavior can be adjusted by setting 'spark.sql.debug.maxToStringFields'.\n",
      "22/06/09 13:39:39 INFO CodeGenerator: Code generated in 153.833958 ms\n",
      "22/06/09 13:39:39 INFO SparkContext: Starting job: show at cmd3.sc:1\n",
      "22/06/09 13:39:39 INFO DAGScheduler: Got job 0 (show at cmd3.sc:1) with 1 output partitions\n",
      "22/06/09 13:39:39 INFO DAGScheduler: Final stage: ResultStage 0 (show at cmd3.sc:1)\n",
      "22/06/09 13:39:39 INFO DAGScheduler: Parents of final stage: List()\n",
      "22/06/09 13:39:39 INFO DAGScheduler: Missing parents: List()\n",
      "22/06/09 13:39:39 INFO DAGScheduler: Submitting ResultStage 0 (MapPartitionsRDD[2] at show at cmd3.sc:1), which has no missing parents\n",
      "22/06/09 13:39:39 INFO MemoryStore: Block broadcast_0 stored as values in memory (estimated size 24.9 KiB, free 1111.8 MiB)\n",
      "22/06/09 13:39:39 INFO MemoryStore: Block broadcast_0_piece0 stored as bytes in memory (estimated size 8.4 KiB, free 1111.8 MiB)\n",
      "22/06/09 13:39:39 INFO BlockManagerInfo: Added broadcast_0_piece0 in memory on 227281bc4555:44039 (size: 8.4 KiB, free: 1111.8 MiB)\n",
      "22/06/09 13:39:39 INFO SparkContext: Created broadcast 0 from broadcast at DAGScheduler.scala:1200\n",
      "22/06/09 13:39:39 INFO DAGScheduler: Submitting 1 missing tasks from ResultStage 0 (MapPartitionsRDD[2] at show at cmd3.sc:1) (first 15 tasks are for partitions Vector(0))\n",
      "22/06/09 13:39:39 INFO TaskSchedulerImpl: Adding task set 0.0 with 1 tasks\n",
      "22/06/09 13:39:39 INFO TaskSetManager: Starting task 0.0 in stage 0.0 (TID 0, 172.19.0.5, executor 0, partition 0, PROCESS_LOCAL, 7175 bytes)\n",
      "22/06/09 13:39:40 INFO BlockManagerInfo: Added broadcast_0_piece0 in memory on 172.19.0.5:46307 (size: 8.4 KiB, free: 93.3 MiB)\n",
      "22/06/09 13:39:40 INFO TaskSetManager: Finished task 0.0 in stage 0.0 (TID 0) in 888 ms on 172.19.0.5 (executor 0) (1/1)\n",
      "22/06/09 13:39:40 INFO TaskSchedulerImpl: Removed TaskSet 0.0, whose tasks have all completed, from pool \n",
      "22/06/09 13:39:40 INFO DAGScheduler: ResultStage 0 (show at cmd3.sc:1) finished in 1.011 s\n",
      "22/06/09 13:39:40 INFO DAGScheduler: Job 0 is finished. Cancelling potential speculative or zombie tasks for this job\n",
      "22/06/09 13:39:40 INFO TaskSchedulerImpl: Killing all running tasks in stage 0: Stage finished\n",
      "22/06/09 13:39:40 INFO DAGScheduler: Job 0 finished: show at cmd3.sc:1, took 1.047482 s\n",
      "22/06/09 13:39:40 INFO CodeGenerator: Code generated in 37.856208 ms\n"
     ]
    },
    {
     "name": "stdout",
     "output_type": "stream",
     "text": [
      "+---+--------------------+-----------+-------+----+---+-----------+-------------------+--------------+----------+------------+------------------------+-------+-------+-------+---------+-----------+---------------+-------------------------+--------------------+------------------------------+---------+---------+-------------------------+--------+------------------+------------+-------------------+--------------------+------------+------------------------------+---------------------+-----------------+---------------+\n",
      "| id|             average|runs_scored|at_bats|hits|rbi|total_bases|slugging_percentage|bases_on_balls|strikeouts|left_on_base|left_in_scoring_position|singles|doubles|triples|home_runs|grand_slams|at_bats_per_rbi|plate_appearances_per_rbi|at_bats_per_home_run|plate_appearances_per_home_run|sac_flies|sac_bunts|grounded_into_double_play|moved_up|on_base_percentage|stolen_bases|stolen_bases_caught|stolen_bases_average|hit_by_pitch|defensive_interferance_reaches|on_base_plus_slugging|plate_appearances|hits_extra_base|\n",
      "+---+--------------------+-----------+-------+----+---+-----------+-------------------+--------------+----------+------------+------------------------+-------+-------+-------+---------+-----------+---------------+-------------------------+--------------------+------------------------------+---------+---------+-------------------------+--------+------------------+------------+-------------------+--------------------+------------+------------------------------+---------------------+-----------------+---------------+\n",
      "|  1|                null|          5|     34|   8|  4|       null|               null|             3|        11|           5|                    null|   null|      1|      1|        1|          0|           null|                     null|                null|                          null|        0|     null|                        0|    null|              null|           1|                  0|                null|           0|                          null|                 null|             null|           null|\n",
      "|  2|                null|          2|     34|   8|  2|       null|               null|             3|         6|           8|                    null|   null|      2|      0|        0|          0|           null|                     null|                null|                          null|        0|     null|                        1|    null|              null|           0|                  1|                null|           0|                          null|                 null|             null|           null|\n",
      "|  3|0.284000000000000000|          1|      5|   3|  4|       null|               null|             0|         0|        null|                    null|      2|      0|      0|        1|          0|           null|                     null|                null|                          null|        0|     null|                        0|    null|              null|           1|                  0|                null|           0|                          null|                 null|             null|           null|\n",
      "|  4|0.268000000000000000|          0|      3|   1|  0|       null|               null|             1|         1|        null|                    null|      0|      1|      0|        0|          0|           null|                     null|                null|                          null|        0|     null|                        0|    null|              null|           0|                  0|                null|           0|                          null|                 null|             null|           null|\n",
      "|  5|0.305000000000000000|          0|      4|   1|  0|       null|               null|             0|         1|        null|                    null|      1|      0|      0|        0|          0|           null|                     null|                null|                          null|        0|     null|                        0|    null|              null|           0|                  0|                null|           0|                          null|                 null|             null|           null|\n",
      "|  6|0.312000000000000000|          0|      4|   0|  0|       null|               null|             0|         1|        null|                    null|      0|      0|      0|        0|          0|           null|                     null|                null|                          null|        0|     null|                        0|    null|              null|           0|                  0|                null|           0|                          null|                 null|             null|           null|\n",
      "|  7|0.253000000000000000|          0|      2|   0|  0|       null|               null|             2|         0|        null|                    null|      0|      0|      0|        0|          0|           null|                     null|                null|                          null|        0|     null|                        0|    null|              null|           0|                  0|                null|           0|                          null|                 null|             null|           null|\n",
      "|  8|0.275000000000000000|          0|      4|   0|  0|       null|               null|             0|         3|        null|                    null|      0|      0|      0|        0|          0|           null|                     null|                null|                          null|        0|     null|                        0|    null|              null|           0|                  0|                null|           0|                          null|                 null|             null|           null|\n",
      "|  9|0.300000000000000000|          1|      4|   0|  0|       null|               null|             0|         2|        null|                    null|      0|      0|      0|        0|          0|           null|                     null|                null|                          null|        0|     null|                        0|    null|              null|           0|                  0|                null|           0|                          null|                 null|             null|           null|\n",
      "| 10|0.300000000000000000|          2|      4|   2|  0|       null|               null|             0|         1|        null|                    null|      1|      0|      1|        0|          0|           null|                     null|                null|                          null|        0|     null|                        0|    null|              null|           0|                  0|                null|           0|                          null|                 null|             null|           null|\n",
      "| 11|0.252000000000000000|          1|      4|   1|  0|       null|               null|             0|         2|        null|                    null|      1|      0|      0|        0|          0|           null|                     null|                null|                          null|        0|     null|                        0|    null|              null|           0|                  0|                null|           0|                          null|                 null|             null|           null|\n",
      "| 12|0.276000000000000000|          0|      4|   0|  0|       null|               null|             1|         1|        null|                    null|      0|      0|      0|        0|          0|           null|                     null|                null|                          null|        0|     null|                        0|    null|              null|           0|                  0|                null|           0|                          null|                 null|             null|           null|\n",
      "| 13|0.259000000000000000|          0|      4|   1|  0|       null|               null|             0|         1|        null|                    null|      1|      0|      0|        0|          0|           null|                     null|                null|                          null|        0|     null|                        0|    null|              null|           0|                  0|                null|           0|                          null|                 null|             null|           null|\n",
      "| 14|0.299000000000000000|          0|      4|   1|  0|       null|               null|             0|         1|        null|                    null|      1|      0|      0|        0|          0|           null|                     null|                null|                          null|        0|     null|                        0|    null|              null|           0|                  0|                null|           0|                          null|                 null|             null|           null|\n",
      "| 15|0.292000000000000000|          1|      4|   2|  0|       null|               null|             0|         2|        null|                    null|      1|      1|      0|        0|          0|           null|                     null|                null|                          null|        0|     null|                        0|    null|              null|           0|                  0|                null|           0|                          null|                 null|             null|           null|\n",
      "| 16|0.294000000000000000|          0|      4|   0|  0|       null|               null|             0|         0|        null|                    null|      0|      0|      0|        0|          0|           null|                     null|                null|                          null|        0|     null|                        1|    null|              null|           0|                  0|                null|           0|                          null|                 null|             null|           null|\n",
      "| 17|0.290000000000000000|          0|      3|   2|  1|       null|               null|             1|         0|        null|                    null|      1|      1|      0|        0|          0|           null|                     null|                null|                          null|        0|     null|                        0|    null|              null|           0|                  1|                null|           0|                          null|                 null|             null|           null|\n",
      "| 18|0.279000000000000000|          1|      3|   1|  0|       null|               null|             1|         0|        null|                    null|      1|      0|      0|        0|          0|           null|                     null|                null|                          null|        0|     null|                        0|    null|              null|           0|                  0|                null|           0|                          null|                 null|             null|           null|\n",
      "| 19|0.209000000000000000|          0|      3|   0|  0|       null|               null|             0|         0|        null|                    null|      0|      0|      0|        0|          0|           null|                     null|                null|                          null|        0|     null|                        0|    null|              null|           0|                  0|                null|           0|                          null|                 null|             null|           null|\n",
      "| 20|0.286000000000000000|          0|      1|   0|  0|       null|               null|             0|         0|        null|                    null|      0|      0|      0|        0|          0|           null|                     null|                null|                          null|        0|     null|                        0|    null|              null|           0|                  0|                null|           0|                          null|                 null|             null|           null|\n",
      "+---+--------------------+-----------+-------+----+---+-----------+-------------------+--------------+----------+------------+------------------------+-------+-------+-------+---------+-----------+---------------+-------------------------+--------------------+------------------------------+---------+---------+-------------------------+--------+------------------+------------+-------------------+--------------------+------------+------------------------------+---------------------+-----------------+---------------+\n",
      "only showing top 20 rows\n",
      "\n"
     ]
    }
   ],
   "source": [
    "df.show()         "
   ]
  },
  {
   "cell_type": "code",
   "execution_count": null,
   "id": "3834487c-fd93-4945-97b7-91d3ac66a9c8",
   "metadata": {},
   "outputs": [],
   "source": []
  }
 ],
 "metadata": {
  "kernelspec": {
   "display_name": "Scala 2.12.10",
   "language": "scala",
   "name": "scala"
  },
  "language_info": {
   "codemirror_mode": "text/x-scala",
   "file_extension": ".sc",
   "mimetype": "text/x-scala",
   "name": "scala",
   "nbconvert_exporter": "script",
   "version": "2.12.10"
  }
 },
 "nbformat": 4,
 "nbformat_minor": 5
}
